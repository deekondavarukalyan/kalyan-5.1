{
 "cells": [
  {
   "cell_type": "code",
   "execution_count": 4,
   "id": "0d4ffd07",
   "metadata": {},
   "outputs": [],
   "source": [
    "class point:\n",
    "    def __init__(self,x,y,z):\n",
    "        self.x=x\n",
    "        self.y=y\n",
    "        self.z=z\n",
    "    def sqsum(self):\n",
    "        a=self.x*self.x\n",
    "        b=self.y*self.y\n",
    "        c=self.z*self.z\n",
    "        return a+b+c\n",
    "output=point(1,3,5)"
   ]
  },
  {
   "cell_type": "code",
   "execution_count": 5,
   "id": "5703e6e8",
   "metadata": {},
   "outputs": [
    {
     "data": {
      "text/plain": [
       "104.0"
      ]
     },
     "execution_count": 5,
     "metadata": {},
     "output_type": "execute_result"
    }
   ],
   "source": [
    "class Calculator:\n",
    "    def __init__(self,num1,num2):\n",
    "        self.num1=float(num1)\n",
    "        self.num2=float(num2)\n",
    "    def add(self):\n",
    "        self.num1+self.num2\n",
    "        return self.num1+self.num2\n",
    "    def subtract(self):\n",
    "        self.num2-self.num1\n",
    "        return self.num2-self.num1\n",
    "    def multiply(self):\n",
    "        self.num1*self.num2\n",
    "        return self.num1*self.num2\n",
    "    def divide(self):\n",
    "        self.num2/self.num1\n",
    "        return self.num2/self.num1\n",
    "obj =Calculator(10, 94)\n",
    "obj.add()\n"
   ]
  },
  {
   "cell_type": "code",
   "execution_count": 6,
   "id": "99d52dcb",
   "metadata": {},
   "outputs": [],
   "source": [
    "class student:\n",
    "    def __init__(self):\n",
    "        self.name=None\n",
    "        self.rollnumber=None\n",
    "    def setName(self,newname):\n",
    "        self.name=newname\n",
    "    def getName(self):\n",
    "        return self.name\n",
    "    def setRollNumber(self,newnumber):\n",
    "        if newnumber>0:\n",
    "            self.rollnumber=newnumber\n",
    "        else:\n",
    "            return 'Enter valid rollnumber'\n",
    "    def getRollNumber(self):\n",
    "        return self.rollnumber\n"
   ]
  },
  {
   "cell_type": "code",
   "execution_count": 7,
   "id": "6c3ab692",
   "metadata": {},
   "outputs": [
    {
     "name": "stdout",
     "output_type": "stream",
     "text": [
      "Edyoda\n",
      "240623\n"
     ]
    }
   ],
   "source": [
    "obj=student()\n",
    "obj.setName('Edyoda')\n",
    "print(obj.getName())\n",
    "obj.setRollNumber(240623)\n",
    "print(obj.getRollNumber())\n"
   ]
  },
  {
   "cell_type": "code",
   "execution_count": 8,
   "id": "f472297a",
   "metadata": {},
   "outputs": [],
   "source": [
    "class account:\n",
    "    def __init__(self, title=None, balance=0):\n",
    "        self.title = title\n",
    "        self.balance = balance\n",
    "    def print_detail(self):\n",
    "        return self.title,self.balance\n",
    "\n",
    "class SavingsAccount(account):\n",
    "    def __init__(self, title, balance, interestRate):\n",
    "        super().__init__(title, balance)\n",
    "        self.interestRate = interestRate\n",
    "    def print_detail(self):\n",
    "        return self.title,self.balance,self.interestRate\n"
   ]
  },
  {
   "cell_type": "code",
   "execution_count": 9,
   "id": "2f244398",
   "metadata": {},
   "outputs": [
    {
     "data": {
      "text/plain": [
       "('Ashish', 5000, 5)"
      ]
     },
     "execution_count": 9,
     "metadata": {},
     "output_type": "execute_result"
    }
   ],
   "source": [
    "obj1=account(\"Ashish\",5000)\n",
    "obj1.print_detail()\n",
    "obj2=SavingsAccount('Ashish',5000,5)\n",
    "obj2.print_detail()\n"
   ]
  },
  {
   "cell_type": "code",
   "execution_count": 10,
   "id": "58789aa8",
   "metadata": {},
   "outputs": [],
   "source": [
    "class Account:\n",
    "    def __init__(self,title=\"none\",balance=0):\n",
    "        self.title=title\n",
    "        self.balance=balance\n",
    "    def getBalance(self,balance):\n",
    "        self.balance=balance\n",
    "    def deposit(self,amount):\n",
    "        self.balance=amount+self.balance\n",
    "    def withdrawal(self,amount):\n",
    "        self.balance=self.balance-amount\n",
    "class SavingsAccount(Account):\n",
    "    def __init__(self,title=None,balance=0,interestRate=0):\n",
    "        super().__init__(title,balance)\n",
    "        self.interestRate = interestRate\n",
    "    def interestAmount(self):\n",
    "        self.interestAmount=(self.interestRate*self.balance)/100\n",
    "obj2=Account(\"Ashish\",5000)\n",
    "obj1=SavingsAccount(\"Ashish\",5000,5)\n"
   ]
  },
  {
   "cell_type": "code",
   "execution_count": 11,
   "id": "b91f6e98",
   "metadata": {},
   "outputs": [],
   "source": [
    "obj1.interestAmount()\n"
   ]
  },
  {
   "cell_type": "code",
   "execution_count": 12,
   "id": "a352f2dd",
   "metadata": {},
   "outputs": [
    {
     "data": {
      "text/plain": [
       "250.0"
      ]
     },
     "execution_count": 12,
     "metadata": {},
     "output_type": "execute_result"
    }
   ],
   "source": [
    "obj1.interestAmount\n"
   ]
  },
  {
   "cell_type": "code",
   "execution_count": null,
   "id": "5dc26863",
   "metadata": {},
   "outputs": [],
   "source": []
  }
 ],
 "metadata": {
  "kernelspec": {
   "display_name": "Python 3 (ipykernel)",
   "language": "python",
   "name": "python3"
  },
  "language_info": {
   "codemirror_mode": {
    "name": "ipython",
    "version": 3
   },
   "file_extension": ".py",
   "mimetype": "text/x-python",
   "name": "python",
   "nbconvert_exporter": "python",
   "pygments_lexer": "ipython3",
   "version": "3.10.9"
  }
 },
 "nbformat": 4,
 "nbformat_minor": 5
}
